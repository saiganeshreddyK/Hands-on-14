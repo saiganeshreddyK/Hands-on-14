{
 "cells": [
  {
   "cell_type": "code",
   "execution_count": 2,
   "id": "a03027d7-11fe-4702-a66b-b4cbaa270b06",
   "metadata": {},
   "outputs": [
    {
     "name": "stdout",
     "output_type": "stream",
     "text": [
      "Edges in the constructed MST:\n",
      "1 -- 2 == 1\n",
      "1 -- 3 == 2\n",
      "0 -- 2 == 3\n",
      "3 -- 5 == 3\n",
      "2 -- 4 == 4\n"
     ]
    }
   ],
   "source": [
    "class KruskalAlgorithm:\n",
    "    def __init__(self, vertices):\n",
    "        self.V = vertices\n",
    "        self.graph = []\n",
    "\n",
    "    def add_edge(self, u, v, w):\n",
    "        self.graph.append([u, v, w])\n",
    "\n",
    "    def find_parent(self, parent, i):\n",
    "        if parent[i] == i:\n",
    "            return i\n",
    "        return self.find_parent(parent, parent[i])\n",
    "\n",
    "    def union(self, parent, rank, x, y):\n",
    "        x_root = self.find_parent(parent, x)\n",
    "        y_root = self.find_parent(parent, y)\n",
    "\n",
    "        if rank[x_root] < rank[y_root]:\n",
    "            parent[x_root] = y_root\n",
    "        elif rank[x_root] > rank[y_root]:\n",
    "            parent[y_root] = x_root\n",
    "        else:\n",
    "            parent[y_root] = x_root\n",
    "            rank[x_root] += 1\n",
    "\n",
    "    def kruskal(self):\n",
    "        result = []\n",
    "\n",
    "        # Sort all the edges in non-decreasing order of their weight\n",
    "        self.graph = sorted(self.graph, key=lambda item: item[2])\n",
    "\n",
    "        parent = []\n",
    "        rank = []\n",
    "\n",
    "        # Create V subsets with single elements\n",
    "        for node in range(self.V):\n",
    "            parent.append(node)\n",
    "            rank.append(0)\n",
    "\n",
    "        i = 0\n",
    "        e = 0\n",
    "\n",
    "        # Number of edges to be taken is V-1\n",
    "        while e < self.V - 1:\n",
    "            u, v, w = self.graph[i]\n",
    "            i += 1\n",
    "            x = self.find_parent(parent, u)\n",
    "            y = self.find_parent(parent, v)\n",
    "\n",
    "            if x != y:\n",
    "                e += 1\n",
    "                result.append([u, v, w])\n",
    "                self.union(parent, rank, x, y)\n",
    "\n",
    "        # Print the minimum spanning tree\n",
    "        print(\"Edges in the constructed MST:\")\n",
    "        for u, v, weight in result:\n",
    "            print(f\"{u} -- {v} == {weight}\")\n",
    "\n",
    "# Example usage\n",
    "g = KruskalAlgorithm(6)\n",
    "g.add_edge(0, 1, 4)\n",
    "g.add_edge(0, 2, 3)\n",
    "g.add_edge(1, 2, 1)\n",
    "g.add_edge(1, 3, 2)\n",
    "g.add_edge(2, 3, 5)\n",
    "g.add_edge(2, 4, 4)\n",
    "g.add_edge(3, 4, 7)\n",
    "g.add_edge(3, 5, 3)\n",
    "g.add_edge(4, 5, 6)\n",
    "\n",
    "g.kruskal()\n"
   ]
  }
 ],
 "metadata": {
  "kernelspec": {
   "display_name": "Python 3 (ipykernel)",
   "language": "python",
   "name": "python3"
  },
  "language_info": {
   "codemirror_mode": {
    "name": "ipython",
    "version": 3
   },
   "file_extension": ".py",
   "mimetype": "text/x-python",
   "name": "python",
   "nbconvert_exporter": "python",
   "pygments_lexer": "ipython3",
   "version": "3.12.1"
  }
 },
 "nbformat": 4,
 "nbformat_minor": 5
}
