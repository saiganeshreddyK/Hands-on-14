{
 "cells": [
  {
   "cell_type": "code",
   "execution_count": 1,
   "id": "e4cc0a2b-97c5-4389-aac5-ab741d9b0398",
   "metadata": {},
   "outputs": [
    {
     "name": "stdout",
     "output_type": "stream",
     "text": [
      "Topological Sort: [0, 2, 1, 4, 3, 5, 6]\n"
     ]
    }
   ],
   "source": [
    "from collections import defaultdict\n",
    "\n",
    "class Graph:\n",
    "    def __init__(self, vertices):\n",
    "        self.graph = defaultdict(list)\n",
    "        self.V = vertices\n",
    "\n",
    "    def add_edge(self, u, v):\n",
    "        self.graph[u].append(v)\n",
    "\n",
    "    def topological_sort_util(self, v, visited, stack):\n",
    "        visited[v] = True\n",
    "\n",
    "        for i in self.graph[v]:\n",
    "            if not visited[i]:\n",
    "                self.topological_sort_util(i, visited, stack)\n",
    "\n",
    "        stack.append(v)\n",
    "\n",
    "    def topological_sort(self):\n",
    "        visited = [False] * self.V\n",
    "        stack = []\n",
    "\n",
    "        for i in range(self.V):\n",
    "            if not visited[i]:\n",
    "                self.topological_sort_util(i, visited, stack)\n",
    "\n",
    "        return stack[::-1]\n",
    "\n",
    "# Example \n",
    "g = Graph(7)\n",
    "g.add_edge(0, 1)\n",
    "g.add_edge(0, 2)\n",
    "g.add_edge(1, 3)\n",
    "g.add_edge(1, 4)\n",
    "g.add_edge(2, 4)\n",
    "g.add_edge(3, 5)\n",
    "g.add_edge(4, 5)\n",
    "g.add_edge(5, 6)\n",
    "\n",
    "print(\"Topological Sort:\", g.topological_sort())"
   ]
  }
 ],
 "metadata": {
  "kernelspec": {
   "display_name": "Python 3 (ipykernel)",
   "language": "python",
   "name": "python3"
  },
  "language_info": {
   "codemirror_mode": {
    "name": "ipython",
    "version": 3
   },
   "file_extension": ".py",
   "mimetype": "text/x-python",
   "name": "python",
   "nbconvert_exporter": "python",
   "pygments_lexer": "ipython3",
   "version": "3.12.1"
  }
 },
 "nbformat": 4,
 "nbformat_minor": 5
}
