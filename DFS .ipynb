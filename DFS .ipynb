{
 "cells": [
  {
   "cell_type": "code",
   "execution_count": 2,
   "id": "52e8c84d-62a4-45b1-9d0b-9c98b95228b4",
   "metadata": {},
   "outputs": [
    {
     "name": "stdout",
     "output_type": "stream",
     "text": [
      "The Depth First Search starting from the vertex 1:\n",
      "1 2 4 8 5 9 3 6 10 7 11 "
     ]
    }
   ],
   "source": [
    "from collections import defaultdict\n",
    "\n",
    "class DepthFirstSearchGraph:\n",
    "    def __init__(self):\n",
    "        self.graph = defaultdict(list)\n",
    "\n",
    "    def add_edge_to_graph(self, u, v):\n",
    "        self.graph[u].append(v)\n",
    "\n",
    "    def dfs_visited_nodes(self, v, visited):\n",
    "        visited[v] = True\n",
    "        print(v, end=' ')\n",
    "\n",
    "        for i in self.graph[v]:\n",
    "            if not visited[i]:\n",
    "                self.dfs_visited_nodes(i, visited)\n",
    "\n",
    "    def dfs_implementation(self, start):\n",
    "        visited = defaultdict(bool)\n",
    "        self.dfs_visited_nodes(start, visited)\n",
    "\n",
    "# Example usage\n",
    "g = DepthFirstSearchGraph()\n",
    "g.add_edge_to_graph(1, 2)\n",
    "g.add_edge_to_graph(1, 3)\n",
    "g.add_edge_to_graph(2, 4)\n",
    "g.add_edge_to_graph(2, 5)\n",
    "g.add_edge_to_graph(3, 6)\n",
    "g.add_edge_to_graph(3, 7)\n",
    "g.add_edge_to_graph(4, 8)\n",
    "g.add_edge_to_graph(5, 9)\n",
    "g.add_edge_to_graph(6, 10)\n",
    "g.add_edge_to_graph(7, 11)\n",
    "\n",
    "print(\"The Depth First Search starting from the vertex 1:\")\n",
    "g.dfs_implementation(1)"
   ]
  },
  {
   "cell_type": "code",
   "execution_count": null,
   "id": "0446e746-efe7-43ed-95b1-7a843db4fd54",
   "metadata": {},
   "outputs": [],
   "source": []
  }
 ],
 "metadata": {
  "kernelspec": {
   "display_name": "Python 3 (ipykernel)",
   "language": "python",
   "name": "python3"
  },
  "language_info": {
   "codemirror_mode": {
    "name": "ipython",
    "version": 3
   },
   "file_extension": ".py",
   "mimetype": "text/x-python",
   "name": "python",
   "nbconvert_exporter": "python",
   "pygments_lexer": "ipython3",
   "version": "3.12.1"
  }
 },
 "nbformat": 4,
 "nbformat_minor": 5
}
